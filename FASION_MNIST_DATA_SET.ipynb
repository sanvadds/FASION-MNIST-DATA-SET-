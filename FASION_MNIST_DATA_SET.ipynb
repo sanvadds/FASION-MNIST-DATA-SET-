{
  "nbformat": 4,
  "nbformat_minor": 0,
  "metadata": {
    "colab": {
      "name": "FASION MNIST DATA SET.ipynb",
      "provenance": [],
      "collapsed_sections": []
    },
    "kernelspec": {
      "name": "python3",
      "display_name": "Python 3"
    },
    "language_info": {
      "name": "python"
    }
  },
  "cells": [
    {
      "cell_type": "code",
      "execution_count": 2,
      "metadata": {
        "id": "OZ5AXjmCjqU-"
      },
      "outputs": [],
      "source": [
        "import tensorflow as tf\n",
        "from tensorflow import keras\n",
        "import numpy as np\n",
        "from matplotlib import pyplot as plt\n",
        "%matplotlib inline"
      ]
    },
    {
      "cell_type": "code",
      "source": [
        "fasion_mnist = keras.datasets.fashion_mnist"
      ],
      "metadata": {
        "id": "598tJKoSkHsf"
      },
      "execution_count": 3,
      "outputs": []
    },
    {
      "cell_type": "code",
      "source": [
        "(x_train,y_train),(x_test,y_test) = fasion_mnist.load_data()"
      ],
      "metadata": {
        "colab": {
          "base_uri": "https://localhost:8080/"
        },
        "id": "nw7UpJFckY1m",
        "outputId": "00433d68-7286-4442-cae3-95a911fff019"
      },
      "execution_count": 5,
      "outputs": [
        {
          "output_type": "stream",
          "name": "stdout",
          "text": [
            "Downloading data from https://storage.googleapis.com/tensorflow/tf-keras-datasets/train-labels-idx1-ubyte.gz\n",
            "32768/29515 [=================================] - 0s 0us/step\n",
            "40960/29515 [=========================================] - 0s 0us/step\n",
            "Downloading data from https://storage.googleapis.com/tensorflow/tf-keras-datasets/train-images-idx3-ubyte.gz\n",
            "26427392/26421880 [==============================] - 0s 0us/step\n",
            "26435584/26421880 [==============================] - 0s 0us/step\n",
            "Downloading data from https://storage.googleapis.com/tensorflow/tf-keras-datasets/t10k-labels-idx1-ubyte.gz\n",
            "16384/5148 [===============================================================================================] - 0s 0us/step\n",
            "Downloading data from https://storage.googleapis.com/tensorflow/tf-keras-datasets/t10k-images-idx3-ubyte.gz\n",
            "4423680/4422102 [==============================] - 0s 0us/step\n",
            "4431872/4422102 [==============================] - 0s 0us/step\n"
          ]
        }
      ]
    },
    {
      "cell_type": "code",
      "source": [
        "x_train.shape"
      ],
      "metadata": {
        "colab": {
          "base_uri": "https://localhost:8080/"
        },
        "id": "xznIIxC9kc0c",
        "outputId": "1bcba235-275c-4179-fc99-9bd083201ccf"
      },
      "execution_count": 12,
      "outputs": [
        {
          "output_type": "execute_result",
          "data": {
            "text/plain": [
              "(60000, 28, 28)"
            ]
          },
          "metadata": {},
          "execution_count": 12
        }
      ]
    },
    {
      "cell_type": "code",
      "source": [
        "y_train.shape"
      ],
      "metadata": {
        "colab": {
          "base_uri": "https://localhost:8080/"
        },
        "id": "Wh7_ie13lmw4",
        "outputId": "c7acda5a-2bee-4cde-ccb7-a4d34ea0dded"
      },
      "execution_count": 13,
      "outputs": [
        {
          "output_type": "execute_result",
          "data": {
            "text/plain": [
              "(60000,)"
            ]
          },
          "metadata": {},
          "execution_count": 13
        }
      ]
    },
    {
      "cell_type": "code",
      "source": [
        "def plot_image(index):\n",
        "  plt.figure(figsize=(10,1))\n",
        "  plt.imshow(x_train[index])"
      ],
      "metadata": {
        "id": "DN0AFzd8mHTl"
      },
      "execution_count": 21,
      "outputs": []
    },
    {
      "cell_type": "code",
      "source": [
        "plot_image(2)"
      ],
      "metadata": {
        "colab": {
          "base_uri": "https://localhost:8080/",
          "height": 105
        },
        "id": "Zsy3yLfPmz_F",
        "outputId": "502538be-5075-4e6f-94ba-82e6d49a03da"
      },
      "execution_count": 22,
      "outputs": [
        {
          "output_type": "display_data",
          "data": {
            "image/png": "[encoded data removed]",
            "text/plain": [
              "<Figure size 720x72 with 1 Axes>"
            ]
          },
          "metadata": {
            "needs_background": "light"
          }
        }
      ]
    },
    {
      "cell_type": "code",
      "source": [
        "plot_image(5)"
      ],
      "metadata": {
        "colab": {
          "base_uri": "https://localhost:8080/",
          "height": 105
        },
        "id": "fKHCh4gam3Lv",
        "outputId": "7170545c-cbea-4b5c-b10a-3075b2090507"
      },
      "execution_count": 23,
      "outputs": [
        {
          "output_type": "display_data",
          "data": {
            "image/png": "[encoded data removed]",
            "text/plain": [
              "<Figure size 720x72 with 1 Axes>"
            ]
          },
          "metadata": {
            "needs_background": "light"
          }
        }
      ]
    },
    {
      "cell_type": "code",
      "source": [
        "classess = ['T-shirt/top','Trouser','Pullover','Dress','Coat','Sandal','Shirt','Sneaker','Bag','Ankle boot']"
      ],
      "metadata": {
        "id": "JuH6pme_ndgv"
      },
      "execution_count": 24,
      "outputs": []
    },
    {
      "cell_type": "code",
      "source": [
        "classess[y_train[9]]"
      ],
      "metadata": {
        "colab": {
          "base_uri": "https://localhost:8080/",
          "height": 35
        },
        "id": "1OWh-HKDodky",
        "outputId": "83bb3dd9-6ad6-4c0f-e999-46614140ae44"
      },
      "execution_count": 28,
      "outputs": [
        {
          "output_type": "execute_result",
          "data": {
            "application/vnd.google.colaboratory.intrinsic+json": {
              "type": "string"
            },
            "text/plain": [
              "'Sandal'"
            ]
          },
          "metadata": {},
          "execution_count": 28
        }
      ]
    },
    {
      "cell_type": "code",
      "source": [
        "x_train_scaled = x_train/255\n",
        "x_test_scaled = x_test/255"
      ],
      "metadata": {
        "id": "7XLgBKp0onT_"
      },
      "execution_count": 30,
      "outputs": []
    },
    {
      "cell_type": "code",
      "source": [
        "x_train_scaled[4]"
      ],
      "metadata": {
        "colab": {
          "base_uri": "https://localhost:8080/"
        },
        "id": "bQ5awGIDo5kQ",
        "outputId": "85bc89fe-95c1-4b5a-ff1a-26e2ff3c1bc8"
      },
      "execution_count": 31,
      "outputs": [
        {
          "output_type": "execute_result",
          "data": {
            "text/plain": [
              "array([[0.        , 0.        , 0.        , 0.        , 0.        ,\n",
              "        0.        , 0.        , 0.        , 0.        , 0.        ,\n",
              "        0.        , 0.        , 0.        , 0.        , 0.        ,\n",
              "        0.        , 0.        , 0.10196078, 0.        , 0.        ,\n",
              "        0.        , 0.        , 0.        , 0.        , 0.        ,\n",
              "        0.        , 0.        , 0.        ],\n",
              "       [0.        , 0.        , 0.        , 0.        , 0.        ,\n",
              "        0.        , 0.        , 0.        , 0.74117647, 0.80784314,\n",
              "        0.73333333, 0.1254902 , 0.        , 0.        , 0.        ,\n",
              "        0.10196078, 0.85098039, 0.88627451, 0.76862745, 0.04313725,\n",
              "        0.        , 0.        , 0.        , 0.        , 0.        ,\n",
              "        0.        , 0.        , 0.        ],\n",
              "       [0.        , 0.        , 0.        , 0.        , 0.        ,\n",
              "        0.        , 0.        , 0.        , 0.75294118, 0.89019608,\n",
              "        0.91764706, 0.95294118, 0.90196078, 0.57647059, 0.9372549 ,\n",
              "        0.94901961, 0.91764706, 0.85490196, 0.81960784, 0.        ,\n",
              "        0.        , 0.        , 0.        , 0.        , 0.        ,\n",
              "        0.        , 0.        , 0.        ],\n",
              "       [0.        , 0.        , 0.        , 0.        , 0.        ,\n",
              "        0.        , 0.        , 0.        , 0.67843137, 0.88235294,\n",
              "        0.84313725, 0.91372549, 0.99607843, 0.        , 0.76078431,\n",
              "        0.94117647, 0.85098039, 0.86666667, 0.74509804, 0.        ,\n",
              "        0.        , 0.        , 0.        , 0.        , 0.        ,\n",
              "        0.        , 0.        , 0.        ],\n",
              "       [0.        , 0.        , 0.        , 0.        , 0.        ,\n",
              "        0.        , 0.        , 0.        , 0.54509804, 0.89803922,\n",
              "        0.83137255, 0.88627451, 1.        , 0.        , 0.63529412,\n",
              "        1.        , 0.83529412, 0.88627451, 0.78431373, 0.        ,\n",
              "        0.        , 0.        , 0.        , 0.        , 0.        ,\n",
              "        0.        , 0.        , 0.        ],\n",
              "       [0.        , 0.        , 0.        , 0.        , 0.        ,\n",
              "        0.        , 0.        , 0.        , 0.38431373, 0.90980392,\n",
              "        0.82745098, 0.84313725, 0.97647059, 0.18039216, 0.63529412,\n",
              "        0.96470588, 0.83921569, 0.90196078, 0.72941176, 0.        ,\n",
              "        0.        , 0.        , 0.        , 0.        , 0.        ,\n",
              "        0.        , 0.        , 0.        ],\n",
              "       [0.        , 0.        , 0.        , 0.        , 0.        ,\n",
              "        0.        , 0.        , 0.        , 0.2745098 , 0.89411765,\n",
              "        0.83529412, 0.8627451 , 0.87843137, 0.98823529, 0.9372549 ,\n",
              "        0.85882353, 0.85098039, 0.90588235, 0.67058824, 0.        ,\n",
              "        0.        , 0.        , 0.        , 0.        , 0.        ,\n",
              "        0.        , 0.        , 0.        ],\n",
              "       [0.        , 0.        , 0.        , 0.        , 0.        ,\n",
              "        0.        , 0.        , 0.        , 0.17647059, 0.87058824,\n",
              "        0.83921569, 0.85490196, 0.84705882, 0.82352941, 0.84313725,\n",
              "        0.85098039, 0.79215686, 0.87843137, 0.6745098 , 0.        ,\n",
              "        0.        , 0.        , 0.        , 0.        , 0.        ,\n",
              "        0.        , 0.        , 0.        ],\n",
              "       [0.        , 0.        , 0.        , 0.        , 0.        ,\n",
              "        0.        , 0.        , 0.        , 0.09411765, 0.99607843,\n",
              "        0.83921569, 0.82352941, 0.82745098, 0.83921569, 0.84313725,\n",
              "        0.83137255, 0.79607843, 0.86666667, 0.65490196, 0.        ,\n",
              "        0.        , 0.        , 0.        , 0.        , 0.        ,\n",
              "        0.        , 0.        , 0.        ],\n",
              "       [0.        , 0.        , 0.        , 0.        , 0.        ,\n",
              "        0.        , 0.        , 0.        , 0.        , 0.99607843,\n",
              "        0.84705882, 0.84313725, 0.85098039, 0.85098039, 0.84705882,\n",
              "        0.84705882, 0.80784314, 0.88235294, 0.58823529, 0.        ,\n",
              "        0.        , 0.        , 0.        , 0.        , 0.        ,\n",
              "        0.        , 0.        , 0.        ],\n",
              "       [0.        , 0.        , 0.        , 0.        , 0.        ,\n",
              "        0.        , 0.        , 0.        , 0.        , 0.96862745,\n",
              "        0.84705882, 0.83921569, 0.85098039, 0.84705882, 0.83921569,\n",
              "        0.83137255, 0.79607843, 0.88627451, 0.53333333, 0.        ,\n",
              "        0.        , 0.        , 0.        , 0.        , 0.        ,\n",
              "        0.        , 0.        , 0.        ],\n",
              "       [0.        , 0.        , 0.        , 0.        , 0.        ,\n",
              "        0.        , 0.        , 0.        , 0.        , 0.96078431,\n",
              "        0.84705882, 0.83921569, 0.84705882, 0.85098039, 0.84313725,\n",
              "        0.82745098, 0.8       , 0.88235294, 0.49019608, 0.        ,\n",
              "        0.        , 0.        , 0.        , 0.        , 0.        ,\n",
              "        0.        , 0.        , 0.        ],\n",
              "       [0.        , 0.        , 0.        , 0.        , 0.        ,\n",
              "        0.        , 0.        , 0.        , 0.        , 0.96862745,\n",
              "        0.84705882, 0.83921569, 0.85098039, 0.8627451 , 0.85098039,\n",
              "        0.83529412, 0.79607843, 0.87058824, 0.57647059, 0.        ,\n",
              "        0.        , 0.        , 0.        , 0.        , 0.        ,\n",
              "        0.        , 0.        , 0.        ],\n",
              "       [0.        , 0.        , 0.        , 0.        , 0.        ,\n",
              "        0.        , 0.        , 0.        , 0.        , 0.97254902,\n",
              "        0.84705882, 0.84313725, 0.85490196, 0.87058824, 0.84705882,\n",
              "        0.83921569, 0.81176471, 0.85490196, 0.70196078, 0.        ,\n",
              "        0.        , 0.        , 0.        , 0.        , 0.        ,\n",
              "        0.        , 0.        , 0.        ],\n",
              "       [0.        , 0.        , 0.        , 0.        , 0.        ,\n",
              "        0.        , 0.        , 0.        , 0.        , 0.97647059,\n",
              "        0.84705882, 0.85098039, 0.85882353, 0.87058824, 0.85098039,\n",
              "        0.83921569, 0.82352941, 0.84313725, 0.82745098, 0.        ,\n",
              "        0.        , 0.        , 0.        , 0.        , 0.        ,\n",
              "        0.        , 0.        , 0.        ],\n",
              "       [0.        , 0.        , 0.        , 0.        , 0.        ,\n",
              "        0.        , 0.        , 0.        , 0.14901961, 1.        ,\n",
              "        0.83921569, 0.85490196, 0.85882353, 0.87843137, 0.85490196,\n",
              "        0.84313725, 0.82745098, 0.82745098, 0.90588235, 0.        ,\n",
              "        0.        , 0.        , 0.        , 0.        , 0.        ,\n",
              "        0.        , 0.        , 0.        ],\n",
              "       [0.        , 0.        , 0.        , 0.        , 0.        ,\n",
              "        0.        , 0.        , 0.        , 0.30980392, 0.89019608,\n",
              "        0.81960784, 0.85882353, 0.85882353, 0.89019608, 0.85882353,\n",
              "        0.84313725, 0.83529412, 0.80784314, 0.99607843, 0.22745098,\n",
              "        0.        , 0.        , 0.        , 0.        , 0.        ,\n",
              "        0.        , 0.        , 0.        ],\n",
              "       [0.        , 0.        , 0.        , 0.        , 0.        ,\n",
              "        0.        , 0.        , 0.        , 0.57254902, 0.88627451,\n",
              "        0.82745098, 0.8627451 , 0.85882353, 0.89411765, 0.85490196,\n",
              "        0.84313725, 0.84705882, 0.80392157, 0.85882353, 0.63921569,\n",
              "        0.        , 0.        , 0.        , 0.        , 0.        ,\n",
              "        0.        , 0.        , 0.        ],\n",
              "       [0.        , 0.        , 0.        , 0.        , 0.        ,\n",
              "        0.        , 0.        , 0.        , 0.79215686, 0.86666667,\n",
              "        0.83921569, 0.86666667, 0.85882353, 0.90588235, 0.85490196,\n",
              "        0.84313725, 0.85490196, 0.83529412, 0.83137255, 0.8627451 ,\n",
              "        0.        , 0.        , 0.        , 0.        , 0.        ,\n",
              "        0.        , 0.        , 0.        ],\n",
              "       [0.        , 0.        , 0.        , 0.        , 0.        ,\n",
              "        0.        , 0.        , 0.        , 0.91764706, 0.85098039,\n",
              "        0.84705882, 0.8627451 , 0.85882353, 0.91764706, 0.85098039,\n",
              "        0.84313725, 0.85490196, 0.84705882, 0.8745098 , 0.96862745,\n",
              "        0.02745098, 0.        , 0.        , 0.        , 0.        ,\n",
              "        0.        , 0.        , 0.        ],\n",
              "       [0.        , 0.        , 0.        , 0.        , 0.        ,\n",
              "        0.        , 0.        , 0.06666667, 0.99607843, 0.83137255,\n",
              "        0.85882353, 0.85882353, 0.8627451 , 0.91372549, 0.83921569,\n",
              "        0.84705882, 0.85882353, 0.87058824, 0.6       , 0.93333333,\n",
              "        0.22745098, 0.        , 0.        , 0.        , 0.        ,\n",
              "        0.        , 0.        , 0.        ],\n",
              "       [0.        , 0.        , 0.        , 0.        , 0.        ,\n",
              "        0.        , 0.        , 0.25882353, 1.        , 0.81568627,\n",
              "        0.8627451 , 0.85882353, 0.87058824, 0.94509804, 0.8627451 ,\n",
              "        0.85490196, 0.85490196, 0.85490196, 0.75294118, 0.94901961,\n",
              "        0.38823529, 0.        , 0.        , 0.        , 0.        ,\n",
              "        0.        , 0.        , 0.        ],\n",
              "       [0.        , 0.        , 0.        , 0.        , 0.        ,\n",
              "        0.        , 0.        , 0.55686275, 0.92156863, 0.79607843,\n",
              "        0.85490196, 0.84705882, 0.90588235, 0.94901961, 0.88235294,\n",
              "        0.91372549, 0.85882353, 0.83921569, 0.84705882, 0.93333333,\n",
              "        0.56470588, 0.        , 0.        , 0.        , 0.        ,\n",
              "        0.        , 0.        , 0.        ],\n",
              "       [0.        , 0.        , 0.        , 0.        , 0.        ,\n",
              "        0.        , 0.        , 0.69411765, 0.97254902, 0.89019608,\n",
              "        0.89803922, 0.82745098, 1.        , 0.29803922, 0.        ,\n",
              "        0.96862745, 0.95294118, 0.90196078, 0.90196078, 0.97647059,\n",
              "        0.73333333, 0.        , 0.        , 0.        , 0.        ,\n",
              "        0.        , 0.        , 0.        ],\n",
              "       [0.        , 0.        , 0.        , 0.        , 0.        ,\n",
              "        0.        , 0.        , 0.39607843, 0.94509804, 0.89411765,\n",
              "        0.89411765, 0.8627451 , 1.        , 0.25098039, 0.        ,\n",
              "        0.95294118, 0.92941176, 0.90196078, 0.89019608, 0.94509804,\n",
              "        0.55686275, 0.        , 0.        , 0.        , 0.        ,\n",
              "        0.        , 0.        , 0.        ],\n",
              "       [0.        , 0.        , 0.        , 0.        , 0.        ,\n",
              "        0.        , 0.        , 0.        , 1.        , 0.94901961,\n",
              "        0.87058824, 0.85490196, 1.        , 0.24313725, 0.        ,\n",
              "        0.8745098 , 0.93333333, 0.88235294, 0.93333333, 1.        ,\n",
              "        0.12156863, 0.        , 0.        , 0.        , 0.        ,\n",
              "        0.        , 0.        , 0.        ],\n",
              "       [0.        , 0.        , 0.        , 0.        , 0.        ,\n",
              "        0.        , 0.        , 0.        , 0.17647059, 1.        ,\n",
              "        0.94901961, 0.92156863, 1.        , 0.32941176, 0.        ,\n",
              "        0.96470588, 1.        , 0.94901961, 1.        , 0.2745098 ,\n",
              "        0.        , 0.        , 0.        , 0.        , 0.        ,\n",
              "        0.        , 0.        , 0.        ],\n",
              "       [0.        , 0.        , 0.        , 0.        , 0.        ,\n",
              "        0.        , 0.        , 0.        , 0.        , 0.        ,\n",
              "        0.23921569, 0.4       , 0.65882353, 0.09803922, 0.        ,\n",
              "        0.54509804, 0.63137255, 0.29019608, 0.        , 0.        ,\n",
              "        0.        , 0.        , 0.        , 0.        , 0.        ,\n",
              "        0.        , 0.        , 0.        ]])"
            ]
          },
          "metadata": {},
          "execution_count": 31
        }
      ]
    },
    {
      "cell_type": "code",
      "source": [
        "y_train_categorical = keras.utils.to_categorical(\n",
        "    y_train, num_classes= 10, dtype='float32'\n",
        ")"
      ],
      "metadata": {
        "id": "v3gN1EclpFZB"
      },
      "execution_count": 34,
      "outputs": []
    },
    {
      "cell_type": "code",
      "source": [
        "y_test_categorical = keras.utils.to_categorical(\n",
        "    y_test , num_classes=10, dtype='float32'\n",
        ")"
      ],
      "metadata": {
        "id": "YSYXkEn_po8G"
      },
      "execution_count": 35,
      "outputs": []
    },
    {
      "cell_type": "markdown",
      "source": [
        "\n",
        "\n",
        "**1.WE ARE USING STOCHASTIC GRADIANT DESCENT (SGD) OPTIMIZER BECAUSE DATA SET IS \n",
        "LITTLE BIGGER.**\n",
        "\n",
        "\n",
        "**2.LOSS FUNCTION WE ARE USING CATEGORICAL CROSS ENTROPY BECAUSE Y_TRAIN WE ONE HOT ENCODED.(OTHERWISE FOR DISCRETE VALUES WE MUST USE SPARSE CATEGORICAL CROSS ENTROPY.**"
      ],
      "metadata": {
        "id": "vtYUcgQ8ulIf"
      }
    },
    {
      "cell_type": "code",
      "source": [
        "model = keras.Sequential([\n",
        "        keras.layers.Flatten(input_shape=(28,28)),\n",
        "        keras.layers.Dense(750, activation='relu'),\n",
        "        keras.layers.Dense(550, activation='relu'),\n",
        "        keras.layers.Dense(350, activation='relu'),\n",
        "        keras.layers.Dense(200, activation='relu'),\n",
        "        keras.layers.Dense(10, activation='sigmoid'),\n",
        "])\n",
        "\n",
        "model.compile(\n",
        "    optimizer = 'SGD',\n",
        "    loss = 'categorical_crossentropy',\n",
        "    metrics = ['accuracy']\n",
        ")\n",
        "\n",
        "model.fit(x_train_scaled,y_train_categorical,epochs=5)"
      ],
      "metadata": {
        "colab": {
          "base_uri": "https://localhost:8080/"
        },
        "id": "YJF1KeruqCtk",
        "outputId": "bce639c9-d1cb-4995-81bf-0d032cb3f1b3"
      },
      "execution_count": 38,
      "outputs": [
        {
          "output_type": "stream",
          "name": "stdout",
          "text": [
            "Epoch 1/5\n",
            "1875/1875 [==============================] - 24s 13ms/step - loss: 0.6910 - accuracy: 0.7698\n",
            "Epoch 2/5\n",
            "1875/1875 [==============================] - 23s 12ms/step - loss: 0.4519 - accuracy: 0.8404\n",
            "Epoch 3/5\n",
            "1875/1875 [==============================] - 23s 12ms/step - loss: 0.4021 - accuracy: 0.8568\n",
            "Epoch 4/5\n",
            "1875/1875 [==============================] - 23s 12ms/step - loss: 0.3708 - accuracy: 0.8663\n",
            "Epoch 5/5\n",
            "1875/1875 [==============================] - 23s 12ms/step - loss: 0.3469 - accuracy: 0.8756\n"
          ]
        },
        {
          "output_type": "execute_result",
          "data": {
            "text/plain": [
              "<keras.callbacks.History at 0x7fe7ca463550>"
            ]
          },
          "metadata": {},
          "execution_count": 38
        }
      ]
    },
    {
      "cell_type": "markdown",
      "source": [
        "***MODEL PREDICTION ***"
      ],
      "metadata": {
        "id": "azc7DpIdtzHK"
      }
    },
    {
      "cell_type": "code",
      "source": [
        "classess[np.argmax(model.predict(x_test_scaled)[8])]"
      ],
      "metadata": {
        "colab": {
          "base_uri": "https://localhost:8080/",
          "height": 35
        },
        "id": "8eNvDpxvrL7l",
        "outputId": "a32d2033-c398-4229-a075-94160670319a"
      },
      "execution_count": 47,
      "outputs": [
        {
          "output_type": "execute_result",
          "data": {
            "application/vnd.google.colaboratory.intrinsic+json": {
              "type": "string"
            },
            "text/plain": [
              "'Sandal'"
            ]
          },
          "metadata": {},
          "execution_count": 47
        }
      ]
    },
    {
      "cell_type": "markdown",
      "source": [
        "**ACTUAL RESULT**"
      ],
      "metadata": {
        "id": "zkZK1fZguAil"
      }
    },
    {
      "cell_type": "code",
      "source": [
        "classess[y_test[8]]"
      ],
      "metadata": {
        "colab": {
          "base_uri": "https://localhost:8080/",
          "height": 35
        },
        "id": "9YviDM0AsiF1",
        "outputId": "55956e07-c993-41da-9de0-bd8e04c2f159"
      },
      "execution_count": 49,
      "outputs": [
        {
          "output_type": "execute_result",
          "data": {
            "application/vnd.google.colaboratory.intrinsic+json": {
              "type": "string"
            },
            "text/plain": [
              "'Sandal'"
            ]
          },
          "metadata": {},
          "execution_count": 49
        }
      ]
    },
    {
      "cell_type": "code",
      "source": [
        ""
      ],
      "metadata": {
        "id": "LgajngUmtaDs"
      },
      "execution_count": null,
      "outputs": []
    }
  ]
}